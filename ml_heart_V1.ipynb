{
 "cells": [
  {
   "cell_type": "markdown",
   "id": "c6e34717-4495-4b0a-bafd-0944af7e5ae4",
   "metadata": {
    "jp-MarkdownHeadingCollapsed": true,
    "tags": []
   },
   "source": [
    "## Import"
   ]
  },
  {
   "cell_type": "code",
   "execution_count": 1,
   "id": "a2a9435b",
   "metadata": {},
   "outputs": [],
   "source": [
    "import numpy as np\n",
    "import pandas as pd\n",
    "import matplotlib.pyplot as plt\n",
    "%matplotlib inline\n",
    "import seaborn as sns\n",
    "sns.set()\n",
    "\n",
    "from sklearn import preprocessing\n",
    "\n",
    "from sklearn.model_selection import train_test_split\n",
    "\n",
    "from sklearn.utils import resample\n",
    "\n",
    "import imblearn\n",
    "from imblearn import under_sampling, over_sampling\n",
    "from imblearn.over_sampling import SMOTE\n",
    "\n",
    "from sklearn.metrics import matthews_corrcoef\n",
    "\n",
    "\n",
    "from sklearn.tree import DecisionTreeClassifier\n",
    "from sklearn.ensemble import RandomForestClassifier\n",
    "from xgboost import XGBClassifier\n",
    "import xgboost as xgb\n",
    "\n",
    "from sklearn.metrics import confusion_matrix\n",
    "from sklearn.metrics import ConfusionMatrixDisplay\n",
    "\n",
    "from sklearn.metrics import accuracy_score\n",
    "from sklearn.metrics import recall_score\n",
    "from sklearn.metrics import precision_score\n",
    "from sklearn.metrics import f1_score\n",
    "from sklearn.metrics import balanced_accuracy_score\n",
    "from sklearn.metrics import roc_curve\n",
    "from sklearn.metrics import roc_auc_score\n",
    "\n",
    "from sklearn.model_selection import GridSearchCV\n",
    "\n",
    "from sklearn.model_selection import cross_val_score"
   ]
  },
  {
   "cell_type": "markdown",
   "id": "a5e9e88a-f648-4c37-9e9e-a96b87f16a03",
   "metadata": {
    "jp-MarkdownHeadingCollapsed": true,
    "tags": []
   },
   "source": [
    "## Load Heart disease Dataset from Kaggle"
   ]
  },
  {
   "cell_type": "code",
   "execution_count": 2,
   "id": "1fdac608",
   "metadata": {},
   "outputs": [],
   "source": [
    "df1 = pd.read_csv(r'C:\\Users\\soitb\\OneDrive\\Desktop\\Datasets\\Heart_disease\\heart_2020_cleaned.csv')"
   ]
  },
  {
   "cell_type": "code",
   "execution_count": 3,
   "id": "de270746",
   "metadata": {},
   "outputs": [
    {
     "data": {
      "text/html": [
       "<div>\n",
       "<style scoped>\n",
       "    .dataframe tbody tr th:only-of-type {\n",
       "        vertical-align: middle;\n",
       "    }\n",
       "\n",
       "    .dataframe tbody tr th {\n",
       "        vertical-align: top;\n",
       "    }\n",
       "\n",
       "    .dataframe thead th {\n",
       "        text-align: right;\n",
       "    }\n",
       "</style>\n",
       "<table border=\"1\" class=\"dataframe\">\n",
       "  <thead>\n",
       "    <tr style=\"text-align: right;\">\n",
       "      <th></th>\n",
       "      <th>HeartDisease</th>\n",
       "      <th>BMI</th>\n",
       "      <th>Smoking</th>\n",
       "      <th>AlcoholDrinking</th>\n",
       "      <th>Stroke</th>\n",
       "      <th>PhysicalHealth</th>\n",
       "      <th>MentalHealth</th>\n",
       "      <th>DiffWalking</th>\n",
       "      <th>Sex</th>\n",
       "      <th>AgeCategory</th>\n",
       "      <th>Race</th>\n",
       "      <th>Diabetic</th>\n",
       "      <th>PhysicalActivity</th>\n",
       "      <th>GenHealth</th>\n",
       "      <th>SleepTime</th>\n",
       "      <th>Asthma</th>\n",
       "      <th>KidneyDisease</th>\n",
       "      <th>SkinCancer</th>\n",
       "    </tr>\n",
       "  </thead>\n",
       "  <tbody>\n",
       "    <tr>\n",
       "      <th>0</th>\n",
       "      <td>No</td>\n",
       "      <td>16.60</td>\n",
       "      <td>Yes</td>\n",
       "      <td>No</td>\n",
       "      <td>No</td>\n",
       "      <td>3.0</td>\n",
       "      <td>30.0</td>\n",
       "      <td>No</td>\n",
       "      <td>Female</td>\n",
       "      <td>55-59</td>\n",
       "      <td>White</td>\n",
       "      <td>Yes</td>\n",
       "      <td>Yes</td>\n",
       "      <td>Very good</td>\n",
       "      <td>5.0</td>\n",
       "      <td>Yes</td>\n",
       "      <td>No</td>\n",
       "      <td>Yes</td>\n",
       "    </tr>\n",
       "    <tr>\n",
       "      <th>1</th>\n",
       "      <td>No</td>\n",
       "      <td>20.34</td>\n",
       "      <td>No</td>\n",
       "      <td>No</td>\n",
       "      <td>Yes</td>\n",
       "      <td>0.0</td>\n",
       "      <td>0.0</td>\n",
       "      <td>No</td>\n",
       "      <td>Female</td>\n",
       "      <td>80 or older</td>\n",
       "      <td>White</td>\n",
       "      <td>No</td>\n",
       "      <td>Yes</td>\n",
       "      <td>Very good</td>\n",
       "      <td>7.0</td>\n",
       "      <td>No</td>\n",
       "      <td>No</td>\n",
       "      <td>No</td>\n",
       "    </tr>\n",
       "    <tr>\n",
       "      <th>2</th>\n",
       "      <td>No</td>\n",
       "      <td>26.58</td>\n",
       "      <td>Yes</td>\n",
       "      <td>No</td>\n",
       "      <td>No</td>\n",
       "      <td>20.0</td>\n",
       "      <td>30.0</td>\n",
       "      <td>No</td>\n",
       "      <td>Male</td>\n",
       "      <td>65-69</td>\n",
       "      <td>White</td>\n",
       "      <td>Yes</td>\n",
       "      <td>Yes</td>\n",
       "      <td>Fair</td>\n",
       "      <td>8.0</td>\n",
       "      <td>Yes</td>\n",
       "      <td>No</td>\n",
       "      <td>No</td>\n",
       "    </tr>\n",
       "    <tr>\n",
       "      <th>3</th>\n",
       "      <td>No</td>\n",
       "      <td>24.21</td>\n",
       "      <td>No</td>\n",
       "      <td>No</td>\n",
       "      <td>No</td>\n",
       "      <td>0.0</td>\n",
       "      <td>0.0</td>\n",
       "      <td>No</td>\n",
       "      <td>Female</td>\n",
       "      <td>75-79</td>\n",
       "      <td>White</td>\n",
       "      <td>No</td>\n",
       "      <td>No</td>\n",
       "      <td>Good</td>\n",
       "      <td>6.0</td>\n",
       "      <td>No</td>\n",
       "      <td>No</td>\n",
       "      <td>Yes</td>\n",
       "    </tr>\n",
       "    <tr>\n",
       "      <th>4</th>\n",
       "      <td>No</td>\n",
       "      <td>23.71</td>\n",
       "      <td>No</td>\n",
       "      <td>No</td>\n",
       "      <td>No</td>\n",
       "      <td>28.0</td>\n",
       "      <td>0.0</td>\n",
       "      <td>Yes</td>\n",
       "      <td>Female</td>\n",
       "      <td>40-44</td>\n",
       "      <td>White</td>\n",
       "      <td>No</td>\n",
       "      <td>Yes</td>\n",
       "      <td>Very good</td>\n",
       "      <td>8.0</td>\n",
       "      <td>No</td>\n",
       "      <td>No</td>\n",
       "      <td>No</td>\n",
       "    </tr>\n",
       "  </tbody>\n",
       "</table>\n",
       "</div>"
      ],
      "text/plain": [
       "  HeartDisease    BMI Smoking AlcoholDrinking Stroke  PhysicalHealth  \\\n",
       "0           No  16.60     Yes              No     No             3.0   \n",
       "1           No  20.34      No              No    Yes             0.0   \n",
       "2           No  26.58     Yes              No     No            20.0   \n",
       "3           No  24.21      No              No     No             0.0   \n",
       "4           No  23.71      No              No     No            28.0   \n",
       "\n",
       "   MentalHealth DiffWalking     Sex  AgeCategory   Race Diabetic  \\\n",
       "0          30.0          No  Female        55-59  White      Yes   \n",
       "1           0.0          No  Female  80 or older  White       No   \n",
       "2          30.0          No    Male        65-69  White      Yes   \n",
       "3           0.0          No  Female        75-79  White       No   \n",
       "4           0.0         Yes  Female        40-44  White       No   \n",
       "\n",
       "  PhysicalActivity  GenHealth  SleepTime Asthma KidneyDisease SkinCancer  \n",
       "0              Yes  Very good        5.0    Yes            No        Yes  \n",
       "1              Yes  Very good        7.0     No            No         No  \n",
       "2              Yes       Fair        8.0    Yes            No         No  \n",
       "3               No       Good        6.0     No            No        Yes  \n",
       "4              Yes  Very good        8.0     No            No         No  "
      ]
     },
     "execution_count": 3,
     "metadata": {},
     "output_type": "execute_result"
    }
   ],
   "source": [
    "df1.head()"
   ]
  },
  {
   "cell_type": "markdown",
   "id": "39c7f0e8-03fc-4861-afb4-99c96646bba9",
   "metadata": {
    "jp-MarkdownHeadingCollapsed": true,
    "tags": []
   },
   "source": [
    "## Preprocessing of Dataset"
   ]
  },
  {
   "cell_type": "code",
   "execution_count": 4,
   "id": "605c1a3a",
   "metadata": {},
   "outputs": [],
   "source": [
    "new_AgeCategory = {'55-59':57, '80 or older':80, '65-69':67,\n",
    "                      '75-79':77,'40-44':42,'70-74':72,'60-64':62,\n",
    "                      '50-54':52,'45-49':47,'18-24':21,'35-39':37,\n",
    "                      '30-34':32,'25-29':27}\n",
    "df1['AgeCategory'] = df1['AgeCategory'].apply(lambda x: new_AgeCategory[x])\n",
    "df1['AgeCategory'] = df1['AgeCategory'].astype('float')"
   ]
  },
  {
   "cell_type": "markdown",
   "id": "49316e55",
   "metadata": {
    "tags": []
   },
   "source": [
    "### Normalization of data"
   ]
  },
  {
   "cell_type": "code",
   "execution_count": 5,
   "id": "bfb129c9",
   "metadata": {},
   "outputs": [],
   "source": [
    "for i in ['BMI', 'PhysicalHealth', 'MentalHealth', 'AgeCategory', 'SleepTime']:\n",
    "    df1[i] = df1[i]/df1[i].max()"
   ]
  },
  {
   "cell_type": "markdown",
   "id": "53cc3928",
   "metadata": {},
   "source": [
    "### 1. Converting Categorical columns with two values"
   ]
  },
  {
   "cell_type": "code",
   "execution_count": 6,
   "id": "06d7f4f0",
   "metadata": {},
   "outputs": [],
   "source": [
    "for i in ['HeartDisease','Smoking','AlcoholDrinking','Stroke','DiffWalking','Sex','PhysicalActivity', 'Asthma', 'KidneyDisease', 'SkinCancer']:\n",
    "    le = preprocessing.LabelEncoder()\n",
    "    df1[i] = le.fit_transform(df1[i])"
   ]
  },
  {
   "cell_type": "markdown",
   "id": "ac6621c0",
   "metadata": {},
   "source": [
    "### 2. Converting Columns with more than 2 categorical values"
   ]
  },
  {
   "cell_type": "code",
   "execution_count": 7,
   "id": "e8c572a3",
   "metadata": {},
   "outputs": [],
   "source": [
    "df1 = pd.get_dummies(df1, columns=['Race', 'Diabetic', 'GenHealth', ], prefix = ['Race', 'Diabetic', 'GenHealth'])"
   ]
  },
  {
   "cell_type": "code",
   "execution_count": 8,
   "id": "108a41de",
   "metadata": {},
   "outputs": [
    {
     "data": {
      "text/html": [
       "<div>\n",
       "<style scoped>\n",
       "    .dataframe tbody tr th:only-of-type {\n",
       "        vertical-align: middle;\n",
       "    }\n",
       "\n",
       "    .dataframe tbody tr th {\n",
       "        vertical-align: top;\n",
       "    }\n",
       "\n",
       "    .dataframe thead th {\n",
       "        text-align: right;\n",
       "    }\n",
       "</style>\n",
       "<table border=\"1\" class=\"dataframe\">\n",
       "  <thead>\n",
       "    <tr style=\"text-align: right;\">\n",
       "      <th></th>\n",
       "      <th>HeartDisease</th>\n",
       "      <th>BMI</th>\n",
       "      <th>Smoking</th>\n",
       "      <th>AlcoholDrinking</th>\n",
       "      <th>Stroke</th>\n",
       "      <th>PhysicalHealth</th>\n",
       "      <th>MentalHealth</th>\n",
       "      <th>DiffWalking</th>\n",
       "      <th>Sex</th>\n",
       "      <th>AgeCategory</th>\n",
       "      <th>...</th>\n",
       "      <th>Race_White</th>\n",
       "      <th>Diabetic_No</th>\n",
       "      <th>Diabetic_No, borderline diabetes</th>\n",
       "      <th>Diabetic_Yes</th>\n",
       "      <th>Diabetic_Yes (during pregnancy)</th>\n",
       "      <th>GenHealth_Excellent</th>\n",
       "      <th>GenHealth_Fair</th>\n",
       "      <th>GenHealth_Good</th>\n",
       "      <th>GenHealth_Poor</th>\n",
       "      <th>GenHealth_Very good</th>\n",
       "    </tr>\n",
       "  </thead>\n",
       "  <tbody>\n",
       "    <tr>\n",
       "      <th>0</th>\n",
       "      <td>0</td>\n",
       "      <td>0.175013</td>\n",
       "      <td>1</td>\n",
       "      <td>0</td>\n",
       "      <td>0</td>\n",
       "      <td>0.100000</td>\n",
       "      <td>1.0</td>\n",
       "      <td>0</td>\n",
       "      <td>0</td>\n",
       "      <td>0.7125</td>\n",
       "      <td>...</td>\n",
       "      <td>1</td>\n",
       "      <td>0</td>\n",
       "      <td>0</td>\n",
       "      <td>1</td>\n",
       "      <td>0</td>\n",
       "      <td>0</td>\n",
       "      <td>0</td>\n",
       "      <td>0</td>\n",
       "      <td>0</td>\n",
       "      <td>1</td>\n",
       "    </tr>\n",
       "    <tr>\n",
       "      <th>1</th>\n",
       "      <td>0</td>\n",
       "      <td>0.214444</td>\n",
       "      <td>0</td>\n",
       "      <td>0</td>\n",
       "      <td>1</td>\n",
       "      <td>0.000000</td>\n",
       "      <td>0.0</td>\n",
       "      <td>0</td>\n",
       "      <td>0</td>\n",
       "      <td>1.0000</td>\n",
       "      <td>...</td>\n",
       "      <td>1</td>\n",
       "      <td>1</td>\n",
       "      <td>0</td>\n",
       "      <td>0</td>\n",
       "      <td>0</td>\n",
       "      <td>0</td>\n",
       "      <td>0</td>\n",
       "      <td>0</td>\n",
       "      <td>0</td>\n",
       "      <td>1</td>\n",
       "    </tr>\n",
       "    <tr>\n",
       "      <th>2</th>\n",
       "      <td>0</td>\n",
       "      <td>0.280232</td>\n",
       "      <td>1</td>\n",
       "      <td>0</td>\n",
       "      <td>0</td>\n",
       "      <td>0.666667</td>\n",
       "      <td>1.0</td>\n",
       "      <td>0</td>\n",
       "      <td>1</td>\n",
       "      <td>0.8375</td>\n",
       "      <td>...</td>\n",
       "      <td>1</td>\n",
       "      <td>0</td>\n",
       "      <td>0</td>\n",
       "      <td>1</td>\n",
       "      <td>0</td>\n",
       "      <td>0</td>\n",
       "      <td>1</td>\n",
       "      <td>0</td>\n",
       "      <td>0</td>\n",
       "      <td>0</td>\n",
       "    </tr>\n",
       "    <tr>\n",
       "      <th>3</th>\n",
       "      <td>0</td>\n",
       "      <td>0.255245</td>\n",
       "      <td>0</td>\n",
       "      <td>0</td>\n",
       "      <td>0</td>\n",
       "      <td>0.000000</td>\n",
       "      <td>0.0</td>\n",
       "      <td>0</td>\n",
       "      <td>0</td>\n",
       "      <td>0.9625</td>\n",
       "      <td>...</td>\n",
       "      <td>1</td>\n",
       "      <td>1</td>\n",
       "      <td>0</td>\n",
       "      <td>0</td>\n",
       "      <td>0</td>\n",
       "      <td>0</td>\n",
       "      <td>0</td>\n",
       "      <td>1</td>\n",
       "      <td>0</td>\n",
       "      <td>0</td>\n",
       "    </tr>\n",
       "    <tr>\n",
       "      <th>4</th>\n",
       "      <td>0</td>\n",
       "      <td>0.249974</td>\n",
       "      <td>0</td>\n",
       "      <td>0</td>\n",
       "      <td>0</td>\n",
       "      <td>0.933333</td>\n",
       "      <td>0.0</td>\n",
       "      <td>1</td>\n",
       "      <td>0</td>\n",
       "      <td>0.5250</td>\n",
       "      <td>...</td>\n",
       "      <td>1</td>\n",
       "      <td>1</td>\n",
       "      <td>0</td>\n",
       "      <td>0</td>\n",
       "      <td>0</td>\n",
       "      <td>0</td>\n",
       "      <td>0</td>\n",
       "      <td>0</td>\n",
       "      <td>0</td>\n",
       "      <td>1</td>\n",
       "    </tr>\n",
       "  </tbody>\n",
       "</table>\n",
       "<p>5 rows × 30 columns</p>\n",
       "</div>"
      ],
      "text/plain": [
       "   HeartDisease       BMI  Smoking  AlcoholDrinking  Stroke  PhysicalHealth  \\\n",
       "0             0  0.175013        1                0       0        0.100000   \n",
       "1             0  0.214444        0                0       1        0.000000   \n",
       "2             0  0.280232        1                0       0        0.666667   \n",
       "3             0  0.255245        0                0       0        0.000000   \n",
       "4             0  0.249974        0                0       0        0.933333   \n",
       "\n",
       "   MentalHealth  DiffWalking  Sex  AgeCategory  ...  Race_White  Diabetic_No  \\\n",
       "0           1.0            0    0       0.7125  ...           1            0   \n",
       "1           0.0            0    0       1.0000  ...           1            1   \n",
       "2           1.0            0    1       0.8375  ...           1            0   \n",
       "3           0.0            0    0       0.9625  ...           1            1   \n",
       "4           0.0            1    0       0.5250  ...           1            1   \n",
       "\n",
       "   Diabetic_No, borderline diabetes  Diabetic_Yes  \\\n",
       "0                                 0             1   \n",
       "1                                 0             0   \n",
       "2                                 0             1   \n",
       "3                                 0             0   \n",
       "4                                 0             0   \n",
       "\n",
       "   Diabetic_Yes (during pregnancy)  GenHealth_Excellent  GenHealth_Fair  \\\n",
       "0                                0                    0               0   \n",
       "1                                0                    0               0   \n",
       "2                                0                    0               1   \n",
       "3                                0                    0               0   \n",
       "4                                0                    0               0   \n",
       "\n",
       "   GenHealth_Good  GenHealth_Poor  GenHealth_Very good  \n",
       "0               0               0                    1  \n",
       "1               0               0                    1  \n",
       "2               0               0                    0  \n",
       "3               1               0                    0  \n",
       "4               0               0                    1  \n",
       "\n",
       "[5 rows x 30 columns]"
      ]
     },
     "execution_count": 8,
     "metadata": {},
     "output_type": "execute_result"
    }
   ],
   "source": [
    "df1.head()"
   ]
  },
  {
   "cell_type": "code",
   "execution_count": 9,
   "id": "ccab929d",
   "metadata": {
    "scrolled": true
   },
   "outputs": [],
   "source": [
    "df_col = df1.loc[:,:]"
   ]
  },
  {
   "cell_type": "markdown",
   "id": "f312b5ef",
   "metadata": {
    "jp-MarkdownHeadingCollapsed": true,
    "tags": []
   },
   "source": [
    "## Train Test Split"
   ]
  },
  {
   "cell_type": "code",
   "execution_count": 10,
   "id": "d2d8cea6",
   "metadata": {
    "scrolled": true
   },
   "outputs": [],
   "source": [
    "train , test = train_test_split(df_col, test_size = 0.3, random_state = 1)"
   ]
  },
  {
   "cell_type": "code",
   "execution_count": 11,
   "id": "9b7c5497",
   "metadata": {
    "scrolled": true
   },
   "outputs": [
    {
     "data": {
      "text/plain": [
       "0    204626\n",
       "1     19230\n",
       "Name: HeartDisease, dtype: int64"
      ]
     },
     "execution_count": 11,
     "metadata": {},
     "output_type": "execute_result"
    }
   ],
   "source": [
    "train['HeartDisease'].value_counts()"
   ]
  },
  {
   "cell_type": "markdown",
   "id": "4bea1e15",
   "metadata": {
    "jp-MarkdownHeadingCollapsed": true,
    "tags": []
   },
   "source": [
    "## Imbalance Removal"
   ]
  },
  {
   "cell_type": "markdown",
   "id": "7f0a2684",
   "metadata": {
    "jp-MarkdownHeadingCollapsed": true,
    "tags": []
   },
   "source": [
    "### 1. Using Resample"
   ]
  },
  {
   "cell_type": "code",
   "execution_count": null,
   "id": "bfbf4e44",
   "metadata": {},
   "outputs": [],
   "source": [
    "def resample_method(data,column,n_samples,random_state):\n",
    "    train_no = data[data[data.columns[column]] == 0]\n",
    "    train_yes = data[data[data.columns[column]] == 1]\n",
    "    train_yes = resample(train_yes, \n",
    "                                 replace=True,    # sample with replacement\n",
    "                                 n_samples= n_samples, # to match majority class 'No'\n",
    "                                 random_state=random_state)\n",
    "    data = pd.concat([train_no, train_yes], axis=0)\n",
    "    global train \n",
    "    train = data\n",
    "    return train['HeartDisease'].value_counts()"
   ]
  },
  {
   "cell_type": "code",
   "execution_count": null,
   "id": "b1e3a6e5",
   "metadata": {},
   "outputs": [],
   "source": [
    "n_sample = train['HeartDisease'].value_counts()[0]\n",
    "resample_method(train,0,n_sample,1)"
   ]
  },
  {
   "cell_type": "code",
   "execution_count": null,
   "id": "c5779058",
   "metadata": {},
   "outputs": [],
   "source": [
    "train.shape"
   ]
  },
  {
   "cell_type": "markdown",
   "id": "ec56e85c",
   "metadata": {
    "tags": []
   },
   "source": [
    "### 2. Using SMOTE"
   ]
  },
  {
   "cell_type": "markdown",
   "id": "f6973878",
   "metadata": {
    "tags": []
   },
   "source": [
    "#### Slicing target(y) and features(x) Column seperate"
   ]
  },
  {
   "cell_type": "code",
   "execution_count": 12,
   "id": "b9fb44e8",
   "metadata": {
    "scrolled": true
   },
   "outputs": [
    {
     "name": "stdout",
     "output_type": "stream",
     "text": [
      "(223856, 29)\n",
      "(223856, 1)\n",
      "0    204626\n",
      "1     19230\n",
      "Name: HeartDisease, dtype: int64\n"
     ]
    }
   ],
   "source": [
    "#Train\n",
    "x_train = train.iloc[:,1:]\n",
    "y_train = train.iloc[:,[0]]\n",
    "\n",
    "print(x_train.shape)\n",
    "print(y_train.shape)\n",
    "print(y_train['HeartDisease'].value_counts())"
   ]
  },
  {
   "cell_type": "code",
   "execution_count": 13,
   "id": "240cf2a6",
   "metadata": {},
   "outputs": [
    {
     "name": "stdout",
     "output_type": "stream",
     "text": [
      "(95939, 29)\n",
      "(95939, 1)\n"
     ]
    }
   ],
   "source": [
    "#Test\n",
    "x_test = test.iloc[:,1:]\n",
    "y_test = test.iloc[:,[0]]\n",
    "\n",
    "print(x_test.shape)\n",
    "print(y_test.shape)"
   ]
  },
  {
   "cell_type": "code",
   "execution_count": 14,
   "id": "f41d3c58",
   "metadata": {},
   "outputs": [],
   "source": [
    "def smote(x_tr, y_tr):\n",
    "    oversample = SMOTE()\n",
    "    global x_train\n",
    "    global y_train\n",
    "    x_train, y_train = oversample.fit_resample(x_tr, y_tr)\n",
    "    return y_train['HeartDisease'].value_counts()"
   ]
  },
  {
   "cell_type": "code",
   "execution_count": 15,
   "id": "274ecf71",
   "metadata": {},
   "outputs": [
    {
     "data": {
      "text/plain": [
       "1    204626\n",
       "0    204626\n",
       "Name: HeartDisease, dtype: int64"
      ]
     },
     "execution_count": 15,
     "metadata": {},
     "output_type": "execute_result"
    }
   ],
   "source": [
    "smote(x_train,y_train)"
   ]
  },
  {
   "cell_type": "markdown",
   "id": "8bde5e97",
   "metadata": {
    "jp-MarkdownHeadingCollapsed": true,
    "tags": []
   },
   "source": [
    "## Correlation"
   ]
  },
  {
   "cell_type": "code",
   "execution_count": null,
   "id": "d828ad2c",
   "metadata": {
    "scrolled": true
   },
   "outputs": [],
   "source": [
    "plt.figure(figsize = (12,10))\n",
    "cor = x_train.corr()\n",
    "sns.heatmap(cor)\n",
    "plt.show()"
   ]
  },
  {
   "cell_type": "markdown",
   "id": "9d38942e-1a89-49eb-935e-c41fa9d19705",
   "metadata": {
    "tags": []
   },
   "source": [
    "Columns with Binary values"
   ]
  },
  {
   "cell_type": "code",
   "execution_count": null,
   "id": "7633aeb4",
   "metadata": {},
   "outputs": [],
   "source": [
    "binary_cols = ['HeartDisease','Sex','Smoking','AlcoholDrinking','Stroke','Asthma', 'DiffWalking',\n",
    "               'PhysicalActivity','KidneyDisease','SkinCancer','Diabetic_No', 'Diabetic_No, borderline diabetes', \n",
    "               'Diabetic_Yes','Diabetic_Yes (during pregnancy)','GenHealth_Excellent','GenHealth_Fair', \n",
    "               'GenHealth_Good', 'GenHealth_Poor','GenHealth_Very good'\n",
    "              ]"
   ]
  },
  {
   "cell_type": "markdown",
   "id": "513cb160-b925-4db1-bba6-41bc09da1515",
   "metadata": {},
   "source": [
    "concating the dataset"
   ]
  },
  {
   "cell_type": "code",
   "execution_count": null,
   "id": "be458e51",
   "metadata": {},
   "outputs": [],
   "source": [
    "train_concat = pd.concat([y_train, x_train], axis=1)"
   ]
  },
  {
   "cell_type": "markdown",
   "id": "9e719e60-01b7-4ed2-9832-9dd83be17b48",
   "metadata": {},
   "source": [
    "#### Mathews Correlation Coefficient"
   ]
  },
  {
   "cell_type": "code",
   "execution_count": null,
   "id": "28abb9e6",
   "metadata": {},
   "outputs": [],
   "source": [
    "cols = train_concat.columns\n",
    "corr = []\n",
    "\n",
    "for col in cols:\n",
    "    if col in binary_cols:\n",
    "        corr.append(matthews_corrcoef(train_concat['HeartDisease'], train_concat[col]))\n",
    "    else:\n",
    "        corr.append(train_concat['HeartDisease'].corr(train_concat[col]))\n",
    "\n",
    "\n",
    "correlation = pd.DataFrame(list(zip(cols, corr)), columns=['Variables','Corr_with_HeartDisease'])\n",
    "\n",
    "correlation.drop(index=correlation.index[:1], axis=0, inplace=True)\n",
    "\n",
    "\n",
    "#correlation"
   ]
  },
  {
   "cell_type": "code",
   "execution_count": null,
   "id": "db481979",
   "metadata": {},
   "outputs": [],
   "source": [
    "for i in range(len(correlation)):\n",
    "    # Colour of bar chart is set to red if corr is < 0 and green otherwise\n",
    "    correlation['colors'] = ['#F0073B' if float(x) <= 0 else '#CB3579' for x in correlation['Corr_with_HeartDisease']]\n",
    "\n",
    "correlation = correlation.sort_values(ascending=True, by=['Corr_with_HeartDisease']) \n",
    "\n",
    "plt.figure(figsize=(14,10), dpi=80)\n",
    "\n",
    "plt.hlines(y=correlation.Variables, xmin=0, xmax=correlation.Corr_with_HeartDisease, color=correlation.colors,  linewidth=5)\n",
    "\n",
    "plt.grid()\n",
    "plt.show()"
   ]
  },
  {
   "cell_type": "markdown",
   "id": "3084563d",
   "metadata": {
    "tags": []
   },
   "source": [
    "### Using correlation the most correlated columns can be removed from the dataset"
   ]
  },
  {
   "cell_type": "code",
   "execution_count": null,
   "id": "ca378f9b",
   "metadata": {},
   "outputs": [],
   "source": []
  },
  {
   "cell_type": "code",
   "execution_count": null,
   "id": "c3c38c67",
   "metadata": {},
   "outputs": [],
   "source": []
  },
  {
   "cell_type": "markdown",
   "id": "da5e94d7-a70a-468b-b646-8246773b757e",
   "metadata": {
    "jp-MarkdownHeadingCollapsed": true,
    "tags": []
   },
   "source": [
    "## Machine Learning Models"
   ]
  },
  {
   "cell_type": "markdown",
   "id": "0642d2d4",
   "metadata": {
    "jp-MarkdownHeadingCollapsed": true,
    "tags": []
   },
   "source": [
    "## 1. Decision Tree"
   ]
  },
  {
   "cell_type": "code",
   "execution_count": null,
   "id": "e3a975ca",
   "metadata": {},
   "outputs": [],
   "source": [
    "# classifier = DecisionTreeClassifier(criterion='gini', random_state=1)  "
   ]
  },
  {
   "cell_type": "code",
   "execution_count": null,
   "id": "23f1f43b",
   "metadata": {},
   "outputs": [],
   "source": [
    "# classifier.fit(x_train, y_train)"
   ]
  },
  {
   "cell_type": "code",
   "execution_count": null,
   "id": "c32accbd",
   "metadata": {},
   "outputs": [],
   "source": [
    "# y_pred = classifier.predict(x_test)"
   ]
  },
  {
   "cell_type": "code",
   "execution_count": 16,
   "id": "89c0b4ab",
   "metadata": {},
   "outputs": [],
   "source": [
    "def decision_tree(x_train,y_train):\n",
    "    global classifier\n",
    "    classifier = DecisionTreeClassifier(criterion='entropy', random_state=1)  \n",
    "    classifier.fit(x_train, y_train)\n",
    "    global y_pred\n",
    "    # predicted values\n",
    "    y_pred= classifier.predict(x_test)\n",
    "    return y_pred"
   ]
  },
  {
   "cell_type": "code",
   "execution_count": 17,
   "id": "fb1bacf9-647d-4d37-a797-230702440c58",
   "metadata": {},
   "outputs": [
    {
     "data": {
      "text/plain": [
       "array([0, 0, 0, ..., 1, 1, 0])"
      ]
     },
     "execution_count": 17,
     "metadata": {},
     "output_type": "execute_result"
    }
   ],
   "source": [
    "decision_tree(x_train,y_train)"
   ]
  },
  {
   "cell_type": "markdown",
   "id": "eff5ffaa",
   "metadata": {
    "jp-MarkdownHeadingCollapsed": true,
    "tags": []
   },
   "source": [
    "## 2. Random Forest"
   ]
  },
  {
   "cell_type": "code",
   "execution_count": null,
   "id": "54b9de1f",
   "metadata": {},
   "outputs": [],
   "source": [
    "# classifier = RandomForestClassifier(n_estimators = 100, random_state=1)"
   ]
  },
  {
   "cell_type": "code",
   "execution_count": null,
   "id": "34c9507b",
   "metadata": {},
   "outputs": [],
   "source": [
    "# classifier.fit(x_train, np.ravel(y_train))"
   ]
  },
  {
   "cell_type": "code",
   "execution_count": null,
   "id": "f399915b",
   "metadata": {},
   "outputs": [],
   "source": [
    "# y_pred = classifier.predict(x_test)"
   ]
  },
  {
   "cell_type": "code",
   "execution_count": null,
   "id": "3d7635d4",
   "metadata": {},
   "outputs": [],
   "source": [
    "# classifier.get_params()"
   ]
  },
  {
   "cell_type": "code",
   "execution_count": 20,
   "id": "833d8310",
   "metadata": {},
   "outputs": [],
   "source": [
    "def random_forest(x_train,y_train):\n",
    "    global classifier\n",
    "    classifier = RandomForestClassifier(n_estimators = 100, random_state=1)  \n",
    "    classifier.fit(x_train, np.ravel(y_train))\n",
    "    global y_pred\n",
    "    # predicted values\n",
    "    y_pred= classifier.predict(x_test)\n",
    "    return y_pred"
   ]
  },
  {
   "cell_type": "code",
   "execution_count": 21,
   "id": "5657589e-4811-4498-94c0-9653bcb8de91",
   "metadata": {},
   "outputs": [
    {
     "data": {
      "text/plain": [
       "array([0, 0, 1, ..., 0, 1, 0])"
      ]
     },
     "execution_count": 21,
     "metadata": {},
     "output_type": "execute_result"
    }
   ],
   "source": [
    "random_forest(x_train,y_train)"
   ]
  },
  {
   "cell_type": "markdown",
   "id": "95398701",
   "metadata": {
    "jp-MarkdownHeadingCollapsed": true,
    "tags": []
   },
   "source": [
    "## 3. XGBoost"
   ]
  },
  {
   "cell_type": "code",
   "execution_count": 24,
   "id": "ac607567",
   "metadata": {},
   "outputs": [],
   "source": [
    "def xgb(x_train,y_train):\n",
    "    global classifier\n",
    "    classifier = XGBClassifier(eval_metric = 'error')\n",
    "    classifier.fit(x_train, y_train)\n",
    "    global y_pred\n",
    "    # predicted values\n",
    "    y_pred= classifier.predict(x_test)\n",
    "    return y_pred"
   ]
  },
  {
   "cell_type": "code",
   "execution_count": 25,
   "id": "f4a1efda-16e7-439d-8e1a-5b1fb97c97a2",
   "metadata": {},
   "outputs": [
    {
     "data": {
      "text/plain": [
       "array([0, 0, 0, ..., 0, 1, 0])"
      ]
     },
     "execution_count": 25,
     "metadata": {},
     "output_type": "execute_result"
    }
   ],
   "source": [
    "xgb(x_train,y_train)"
   ]
  },
  {
   "cell_type": "markdown",
   "id": "6a97cbd8",
   "metadata": {
    "jp-MarkdownHeadingCollapsed": true,
    "tags": []
   },
   "source": [
    "## Confusion Matrix"
   ]
  },
  {
   "cell_type": "code",
   "execution_count": 26,
   "id": "28dc9b8d-334d-4c7c-a31f-fe53b5faba9a",
   "metadata": {},
   "outputs": [],
   "source": [
    "def confusion(y_test, y_pred):\n",
    "    cm = confusion_matrix(y_test, y_pred)\n",
    "    plt.figure(figsize=(7,5))\n",
    "\n",
    "    ax = sns.heatmap(cm/np.sum(cm),fmt='.2%', annot=True, cmap='Greens')\n",
    "\n",
    "    ax.set_xlabel('Predicted Values')\n",
    "    ax.set_ylabel('Actual Values');\n",
    "\n",
    "    ax.xaxis.set_ticklabels(['No HeartDisease','HeartDisease'])\n",
    "    ax.yaxis.set_ticklabels(['No HeartDisease','HeartDisease'])\n",
    "\n",
    "    plt.show()"
   ]
  },
  {
   "cell_type": "code",
   "execution_count": 27,
   "id": "f8211c36-5f7c-4b6d-adb0-85d1cf3fae06",
   "metadata": {},
   "outputs": [
    {
     "data": {
      "image/png": "[encoded data removed]",
      "text/plain": [
       "<Figure size 700x500 with 2 Axes>"
      ]
     },
     "metadata": {},
     "output_type": "display_data"
    }
   ],
   "source": [
    "confusion(y_test, y_pred)"
   ]
  },
  {
   "cell_type": "code",
   "execution_count": null,
   "id": "73cae640",
   "metadata": {},
   "outputs": [],
   "source": [
    "ConfusionMatrixDisplay.from_predictions(y_test, y_pred)"
   ]
  },
  {
   "cell_type": "markdown",
   "id": "1539312e-3ae6-4116-a36a-66d047d7e37f",
   "metadata": {
    "jp-MarkdownHeadingCollapsed": true,
    "tags": []
   },
   "source": [
    "## Evaluation of Models"
   ]
  },
  {
   "cell_type": "markdown",
   "id": "b79a2f1b-e2ec-434d-acc1-8f2fe19554f6",
   "metadata": {
    "tags": []
   },
   "source": [
    "### Accuracy = (TP+TN)/(TP+FP+TN+FN)"
   ]
  },
  {
   "cell_type": "code",
   "execution_count": null,
   "id": "c6557721",
   "metadata": {},
   "outputs": [],
   "source": [
    "accuracy_score(y_test, y_pred)"
   ]
  },
  {
   "cell_type": "markdown",
   "id": "45971cfe-0181-45be-80c5-0bc52be5d0eb",
   "metadata": {
    "tags": []
   },
   "source": [
    "### F1 Score = 2.(Precision . Recall)/(Precision + Recall)\n",
    "#### Precision = TP/(TP+FP)\n",
    "#### Recall = TP/(TP+FN)"
   ]
  },
  {
   "cell_type": "code",
   "execution_count": null,
   "id": "80de9478",
   "metadata": {},
   "outputs": [],
   "source": [
    "recall_score(y_test,y_pred)"
   ]
  },
  {
   "cell_type": "code",
   "execution_count": null,
   "id": "a4cc11c7-3b21-4ec5-98d3-63b9174dd339",
   "metadata": {},
   "outputs": [],
   "source": [
    "precision_score(y_test,y_pred)"
   ]
  },
  {
   "cell_type": "code",
   "execution_count": null,
   "id": "717b1524",
   "metadata": {},
   "outputs": [],
   "source": [
    "f1_score(y_test, y_pred, average='micro')"
   ]
  },
  {
   "cell_type": "markdown",
   "id": "f8b93fb4-3aca-4ae9-a623-bd58d293c661",
   "metadata": {
    "tags": []
   },
   "source": [
    "### Balanced Accuracy = (Sensitivity+Specificity)/2\n",
    "#### Sensitivity = TP/(TP+FN)\n",
    "#### Specificity = TN/(TN+FP)"
   ]
  },
  {
   "cell_type": "code",
   "execution_count": null,
   "id": "b9311356",
   "metadata": {
    "scrolled": true
   },
   "outputs": [],
   "source": [
    "balanced_accuracy_score(y_test, y_pred)"
   ]
  },
  {
   "cell_type": "markdown",
   "id": "c13485f1-ebbf-4a4b-9d84-a95a5503907f",
   "metadata": {
    "tags": []
   },
   "source": [
    "### AUC ROC Score"
   ]
  },
  {
   "cell_type": "code",
   "execution_count": null,
   "id": "f4807a38",
   "metadata": {},
   "outputs": [],
   "source": [
    "auc_score1 = roc_auc_score(y_test, y_pred)\n",
    "print(auc_score1, auc_score2)"
   ]
  },
  {
   "cell_type": "markdown",
   "id": "64b57cf3",
   "metadata": {
    "jp-MarkdownHeadingCollapsed": true,
    "tags": []
   },
   "source": [
    "## Grid Search"
   ]
  },
  {
   "cell_type": "markdown",
   "id": "4972dad8-e17a-4652-bebe-2f52b0dba0af",
   "metadata": {
    "jp-MarkdownHeadingCollapsed": true,
    "tags": []
   },
   "source": [
    "### Grid Search on Random Forest"
   ]
  },
  {
   "cell_type": "code",
   "execution_count": null,
   "id": "9d5ba4bf",
   "metadata": {},
   "outputs": [],
   "source": [
    "param_grid = {\n",
    "    'n_estimators': [100],\n",
    "    'max_depth': [7,8,9,10,20],\n",
    "    'min_samples_leaf': [2],\n",
    "    'min_samples_split': [2],\n",
    "    'max_features': ['log2']\n",
    "}\n",
    "\n",
    "grid = GridSearchCV(classifier, param_grid = param_grid, scoring = 'recall', cv = 5, verbose = 5, n_jobs = -1)"
   ]
  },
  {
   "cell_type": "code",
   "execution_count": null,
   "id": "48857607",
   "metadata": {
    "scrolled": true
   },
   "outputs": [],
   "source": [
    "grid.fit(x_train, np.ravel(y_train))"
   ]
  },
  {
   "cell_type": "code",
   "execution_count": null,
   "id": "cdce270a",
   "metadata": {},
   "outputs": [],
   "source": [
    "best_estimator = grid.best_estimator_"
   ]
  },
  {
   "cell_type": "code",
   "execution_count": null,
   "id": "5a36b945",
   "metadata": {},
   "outputs": [],
   "source": [
    "best_estimator.get_params()"
   ]
  },
  {
   "cell_type": "code",
   "execution_count": null,
   "id": "bc0df6c4",
   "metadata": {},
   "outputs": [],
   "source": [
    "y_pred = best_estimator.predict(x_test)"
   ]
  },
  {
   "cell_type": "markdown",
   "id": "9050905b",
   "metadata": {
    "tags": []
   },
   "source": [
    "### After applying grid search on Random forest and train through this,\n",
    "### the comparitive result for Random Forest with and withput grid search --\n",
    "\n",
    "#### 1. Confusion matrix true positive have gone up 4.15% (w/o grid search 2.56%)\n",
    "\n",
    "#### 2. observed increase in AUC score 69% (without grid = 61.5%)\n",
    "\n",
    "#### 3. Balanced_accuracy_score has gone up 69% (w/o grid search 61.5%)\n",
    "\n",
    "#### 4. Decrese in Accuracy score 85.7% (w/o grid search 87.5%)"
   ]
  },
  {
   "cell_type": "markdown",
   "id": "76672845-7ba3-4cd8-956c-d3a7b84d6f1a",
   "metadata": {
    "tags": []
   },
   "source": [
    "### Grid Search on xgboost"
   ]
  },
  {
   "cell_type": "code",
   "execution_count": null,
   "id": "a3f88c32",
   "metadata": {},
   "outputs": [],
   "source": [
    "xgb_model.get_params()"
   ]
  },
  {
   "cell_type": "code",
   "execution_count": null,
   "id": "5ba8f480",
   "metadata": {},
   "outputs": [],
   "source": [
    "default_params = {\n",
    "    'booster': ['gbtree',]\n",
    "    'learning_rate': [0.300000012,]\n",
    "}"
   ]
  },
  {
   "cell_type": "code",
   "execution_count": null,
   "id": "a64344ca",
   "metadata": {},
   "outputs": [],
   "source": [
    "gri =  GridSearchCV(xgb_model, {'max_depth': [2, 4, 6],'n_estimators': [50, 100, 200]}, verbose=1,n_jobs=2)\n",
    "#grid = GridSearchCV(estimator=xgb_model, scoring='accuracy', param_grid=default_params, return_train_score=True, verbose=1, cv=3)"
   ]
  },
  {
   "cell_type": "code",
   "execution_count": null,
   "id": "52c968a7",
   "metadata": {},
   "outputs": [],
   "source": [
    "grid.fit(x_train, y_train_ravel)"
   ]
  },
  {
   "cell_type": "code",
   "execution_count": null,
   "id": "fd32741c",
   "metadata": {},
   "outputs": [],
   "source": [
    "best_estimator = grid.best_estimator_"
   ]
  },
  {
   "cell_type": "code",
   "execution_count": null,
   "id": "0947e5af",
   "metadata": {},
   "outputs": [],
   "source": [
    "y_pred = best_estimator.predict(x_test)"
   ]
  },
  {
   "cell_type": "markdown",
   "id": "5f5c8eca",
   "metadata": {
    "jp-MarkdownHeadingCollapsed": true,
    "tags": []
   },
   "source": [
    "## Cross Validation"
   ]
  },
  {
   "cell_type": "code",
   "execution_count": null,
   "id": "2041bec8",
   "metadata": {},
   "outputs": [],
   "source": [
    "score_bal = cross_val_score(classifier, x_train, np.ravel(y_train), cv=5)\n",
    "score_bal.mean()"
   ]
  },
  {
   "cell_type": "code",
   "execution_count": null,
   "id": "751a1909",
   "metadata": {},
   "outputs": [],
   "source": [
    "# score_imbal = cross_val_score(rf, df1.iloc[:,1:], np.ravel(df1.iloc[:,[0]], order = 'C'), cv=5)\n",
    "# score_imbal.mean()"
   ]
  },
  {
   "cell_type": "markdown",
   "id": "b54702cb",
   "metadata": {
    "jp-MarkdownHeadingCollapsed": true,
    "tags": []
   },
   "source": [
    "## Decision Tree Grid Search"
   ]
  },
  {
   "cell_type": "code",
   "execution_count": null,
   "id": "7960389f",
   "metadata": {
    "scrolled": true
   },
   "outputs": [],
   "source": [
    "\n",
    "for i in [5,10]:\n",
    "    \n",
    "    print('max_depth',i)\n",
    "    param_grid = {\n",
    "        #'n_estimators': [100,200],\n",
    "        'max_depth': [i],\n",
    "        'min_samples_leaf': [2],\n",
    "        'min_samples_split': [2],\n",
    "        'max_features': ['sqrt']\n",
    "    }\n",
    "\n",
    "    grid = GridSearchCV(classifier, param_grid = param_grid, cv = 5, verbose = 5, n_jobs = -1)\n",
    "    \n",
    "    grid.fit(x_train, np.ravel(y_train))\n",
    "    \n",
    "    best_estimator = grid.best_estimator_\n",
    "    \n",
    "    best_estimator.get_params()\n",
    "    \n",
    "    y_pred = best_estimator.predict(x_test)\n",
    "    \n",
    "    print('parameters',best_estimator.get_params())\n",
    "    print('accuracy',accuracy_score(y_test, y_pred))\n",
    "    print('balanced',balanced_accuracy_score(y_test, y_pred))\n",
    "    \n",
    "    \n",
    "    cm = confusion_matrix(y_test, y_pred)\n",
    "    \n",
    "    plt.figure(figsize=(7,5))\n",
    "    ax = sns.heatmap(cm/np.sum(cm),fmt='.2%', annot=True, cmap='Greens')\n",
    "    ax.set_xlabel('Predicted Values')\n",
    "    ax.set_ylabel('Actual Values');\n",
    "    ax.xaxis.set_ticklabels(['No HeartDisease','HeartDisease'])\n",
    "    ax.yaxis.set_ticklabels(['No HeartDisease','HeartDisease'])\n",
    "    plt.show()"
   ]
  },
  {
   "cell_type": "markdown",
   "id": "3674c01f",
   "metadata": {
    "jp-MarkdownHeadingCollapsed": true,
    "tags": []
   },
   "source": [
    "## Random Forest Grid Search"
   ]
  },
  {
   "cell_type": "code",
   "execution_count": null,
   "id": "49546427",
   "metadata": {},
   "outputs": [],
   "source": [
    "for i in [2]:\n",
    "    \n",
    "    print('min_sample_leaf',i)\n",
    "    param_grid = {\n",
    "        'n_estimators': [60],\n",
    "        'max_depth': [7],\n",
    "        'min_samples_leaf': [i],\n",
    "        'min_samples_split': [2],\n",
    "        'max_features': ['auto']\n",
    "    }\n",
    "\n",
    "    grid = GridSearchCV(classifier, param_grid = param_grid, cv = 5, verbose = 5, n_jobs = -1)\n",
    "    \n",
    "    grid.fit(x_train, np.ravel(y_train))\n",
    "    \n",
    "    best_estimator = grid.best_estimator_\n",
    "    \n",
    "    best_estimator.get_params()\n",
    "    \n",
    "    y_pred = best_estimator.predict(x_test)\n",
    "    \n",
    "    print('parameters',best_estimator.get_params())\n",
    "    print('accuracy',accuracy_score(y_test, y_pred))\n",
    "    print('balanced',balanced_accuracy_score(y_test, y_pred))\n",
    "    \n",
    "    \n",
    "    cm = confusion_matrix(y_test, y_pred)\n",
    "    \n",
    "    plt.figure(figsize=(7,5))\n",
    "    ax = sns.heatmap(cm/np.sum(cm),fmt='.2%', annot=True, cmap='Greens')\n",
    "    ax.set_xlabel('Predicted Values')\n",
    "    ax.set_ylabel('Actual Values');\n",
    "    ax.xaxis.set_ticklabels(['No HeartDisease','HeartDisease'])\n",
    "    ax.yaxis.set_ticklabels(['No HeartDisease','HeartDisease'])\n",
    "    plt.show()"
   ]
  },
  {
   "cell_type": "markdown",
   "id": "2e261abf-19fe-468b-91f1-7510e77aaf80",
   "metadata": {
    "jp-MarkdownHeadingCollapsed": true,
    "tags": []
   },
   "source": [
    "## Learning Curves"
   ]
  },
  {
   "cell_type": "code",
   "execution_count": null,
   "id": "44979109",
   "metadata": {},
   "outputs": [],
   "source": [
    "def learning_curves(estimator, data, features, target, train_sizes, cv):\n",
    "    train_sizes, train_scores, validation_scores = learning_curve(\n",
    "    estimator, data[features], data[target], train_sizes = train_sizes,\n",
    "    cv = cv, scoring = 'neg_mean_squared_error')\n",
    "    train_scores_mean = -train_scores.mean(axis = 1)\n",
    "    validation_scores_mean = -validation_scores.mean(axis = 1)\n",
    "\n",
    "    plt.plot(train_sizes, train_scores_mean, label = 'Training error')\n",
    "    plt.plot(train_sizes, validation_scores_mean, label = 'Validation error')\n",
    "    plt.ylabel('MSE', fontsize = 14)\n",
    "    plt.xlabel('Training set size', fontsize = 14)\n",
    "    title = 'Learning curves for a ' + str(estimator).split('(')[0] + ' model'\n",
    "    plt.title(title, fontsize = 18, y = 1.03)\n",
    "    plt.legend()\n",
    "    plt.ylim(0,40)\n"
   ]
  },
  {
   "cell_type": "markdown",
   "id": "823a0044-7aac-46e7-8460-525486eb5a78",
   "metadata": {
    "jp-MarkdownHeadingCollapsed": true,
    "tags": []
   },
   "source": [
    "## Next ..............."
   ]
  },
  {
   "cell_type": "code",
   "execution_count": null,
   "id": "be050a3b-c0de-444a-9961-71bdd1ec653b",
   "metadata": {},
   "outputs": [],
   "source": []
  }
 ],
 "metadata": {
  "kernelspec": {
   "display_name": "Python 3 (ipykernel)",
   "language": "python",
   "name": "python3"
  },
  "language_info": {
   "codemirror_mode": {
    "name": "ipython",
    "version": 3
   },
   "file_extension": ".py",
   "mimetype": "text/x-python",
   "name": "python",
   "nbconvert_exporter": "python",
   "pygments_lexer": "ipython3",
   "version": "3.10.9"
  }
 },
 "nbformat": 4,
 "nbformat_minor": 5
}
